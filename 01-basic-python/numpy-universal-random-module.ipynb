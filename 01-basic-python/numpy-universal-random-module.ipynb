{
  "nbformat": 4,
  "nbformat_minor": 0,
  "metadata": {
    "colab": {
      "provenance": [],
      "authorship_tag": "ABX9TyMw9Vb3QbfNIi7Aqi8nsKHV",
      "include_colab_link": true
    },
    "kernelspec": {
      "name": "python3",
      "display_name": "Python 3"
    },
    "language_info": {
      "name": "python"
    }
  },
  "cells": [
    {
      "cell_type": "markdown",
      "metadata": {
        "id": "view-in-github",
        "colab_type": "text"
      },
      "source": [
        "<a href=\"https://colab.research.google.com/github/aqilaazza/mini-bootcamp-data-analyst-python/blob/main/01-basic-python/numpy-universal-random-module.ipynb\" target=\"_parent\"><img src=\"https://colab.research.google.com/assets/colab-badge.svg\" alt=\"Open In Colab\"/></a>"
      ]
    },
    {
      "cell_type": "markdown",
      "source": [
        "# Fungsi Universal di dalam Library NumPy\n",
        "\n",
        "Fungsi ini mencangkup operasi aritmatika, trigonometri, eksponensial dan banyak lagi"
      ],
      "metadata": {
        "id": "bpr7oYAwDSxM"
      }
    },
    {
      "cell_type": "code",
      "source": [
        "import numpy as np"
      ],
      "metadata": {
        "id": "HS4pCNtnE7rW"
      },
      "execution_count": null,
      "outputs": []
    },
    {
      "cell_type": "code",
      "execution_count": null,
      "metadata": {
        "id": "LEfru6QWC8m0"
      },
      "outputs": [],
      "source": [
        "arr_a = np.array([1, 2, 3])\n",
        "arr_b = np.array([4, 5, 6])"
      ]
    },
    {
      "cell_type": "markdown",
      "source": [
        "aritmatika"
      ],
      "metadata": {
        "id": "ginFaoOkFiD5"
      }
    },
    {
      "cell_type": "code",
      "source": [
        "# penambahan\n",
        "np.add(arr_a, arr_b)"
      ],
      "metadata": {
        "colab": {
          "base_uri": "https://localhost:8080/"
        },
        "id": "sAggQFuNFBBh",
        "outputId": "76868363-e658-4ffa-f957-1894c1dfa33f"
      },
      "execution_count": null,
      "outputs": [
        {
          "output_type": "execute_result",
          "data": {
            "text/plain": [
              "array([5, 7, 9])"
            ]
          },
          "metadata": {},
          "execution_count": 3
        }
      ]
    },
    {
      "cell_type": "code",
      "source": [
        "# perkalian\n",
        "np.multiply(arr_a, arr_b)"
      ],
      "metadata": {
        "colab": {
          "base_uri": "https://localhost:8080/"
        },
        "id": "4jH8F4DYFI3I",
        "outputId": "623c18c8-e85d-48dd-f8f0-c1bdad2fe913"
      },
      "execution_count": null,
      "outputs": [
        {
          "output_type": "execute_result",
          "data": {
            "text/plain": [
              "array([ 4, 10, 18])"
            ]
          },
          "metadata": {},
          "execution_count": 4
        }
      ]
    },
    {
      "cell_type": "markdown",
      "source": [
        "fungsi statistik"
      ],
      "metadata": {
        "id": "YEqi7S7hFnwT"
      }
    },
    {
      "cell_type": "code",
      "source": [
        "arr_c = np.array([1, 2, 3, 4, 5, 5])"
      ],
      "metadata": {
        "id": "X_NcNzNMFl8S"
      },
      "execution_count": null,
      "outputs": []
    },
    {
      "cell_type": "code",
      "source": [
        "np.mean(arr_c)"
      ],
      "metadata": {
        "colab": {
          "base_uri": "https://localhost:8080/"
        },
        "id": "EB803JWJWAPb",
        "outputId": "4c065d29-2072-49b4-ef8e-4462bdb86869"
      },
      "execution_count": null,
      "outputs": [
        {
          "output_type": "execute_result",
          "data": {
            "text/plain": [
              "np.float64(3.3333333333333335)"
            ]
          },
          "metadata": {},
          "execution_count": 6
        }
      ]
    },
    {
      "cell_type": "code",
      "source": [
        "np.median(arr_c)"
      ],
      "metadata": {
        "colab": {
          "base_uri": "https://localhost:8080/"
        },
        "id": "qj-ZHk8bWD0I",
        "outputId": "5af14b15-4763-4bfe-8b92-3ce82dd6b536"
      },
      "execution_count": null,
      "outputs": [
        {
          "output_type": "execute_result",
          "data": {
            "text/plain": [
              "np.float64(3.5)"
            ]
          },
          "metadata": {},
          "execution_count": 7
        }
      ]
    },
    {
      "cell_type": "code",
      "source": [
        "np.std(arr_c)"
      ],
      "metadata": {
        "colab": {
          "base_uri": "https://localhost:8080/"
        },
        "id": "juhAqz71WI5y",
        "outputId": "d2f968b4-8a50-404a-b3ec-b796f3979e66"
      },
      "execution_count": null,
      "outputs": [
        {
          "output_type": "execute_result",
          "data": {
            "text/plain": [
              "np.float64(1.4907119849998598)"
            ]
          },
          "metadata": {},
          "execution_count": 8
        }
      ]
    },
    {
      "cell_type": "code",
      "source": [
        "np.log(arr_c)"
      ],
      "metadata": {
        "colab": {
          "base_uri": "https://localhost:8080/"
        },
        "id": "Vu1GHS-wWNNO",
        "outputId": "7221d72b-6f68-4a4a-db58-2deabba70335"
      },
      "execution_count": null,
      "outputs": [
        {
          "output_type": "execute_result",
          "data": {
            "text/plain": [
              "array([0.        , 0.69314718, 1.09861229, 1.38629436, 1.60943791,\n",
              "       1.60943791])"
            ]
          },
          "metadata": {},
          "execution_count": 9
        }
      ]
    },
    {
      "cell_type": "code",
      "source": [
        "np.exp(arr_c)"
      ],
      "metadata": {
        "colab": {
          "base_uri": "https://localhost:8080/"
        },
        "id": "YySKMuuXWSDZ",
        "outputId": "093cdd56-9008-4e10-9452-eec60e6eff69"
      },
      "execution_count": null,
      "outputs": [
        {
          "output_type": "execute_result",
          "data": {
            "text/plain": [
              "array([  2.71828183,   7.3890561 ,  20.08553692,  54.59815003,\n",
              "       148.4131591 , 148.4131591 ])"
            ]
          },
          "metadata": {},
          "execution_count": 10
        }
      ]
    },
    {
      "cell_type": "markdown",
      "source": [
        "Fungsi Trigonometri"
      ],
      "metadata": {
        "id": "O9NDXIv9WVQ4"
      }
    },
    {
      "cell_type": "code",
      "source": [
        "np.sin(arr_c)"
      ],
      "metadata": {
        "colab": {
          "base_uri": "https://localhost:8080/"
        },
        "id": "XsSoQIBDWUvb",
        "outputId": "45071a09-fbec-4d7c-8020-652d24fa444f"
      },
      "execution_count": null,
      "outputs": [
        {
          "output_type": "execute_result",
          "data": {
            "text/plain": [
              "array([ 0.84147098,  0.90929743,  0.14112001, -0.7568025 , -0.95892427,\n",
              "       -0.95892427])"
            ]
          },
          "metadata": {},
          "execution_count": 11
        }
      ]
    },
    {
      "cell_type": "code",
      "source": [
        "np.cos(arr_c)"
      ],
      "metadata": {
        "colab": {
          "base_uri": "https://localhost:8080/"
        },
        "id": "hA_bjjKLWaVU",
        "outputId": "61cd88f5-554f-49a4-f4f6-bb8920e90f9e"
      },
      "execution_count": null,
      "outputs": [
        {
          "output_type": "execute_result",
          "data": {
            "text/plain": [
              "array([ 0.54030231, -0.41614684, -0.9899925 , -0.65364362,  0.28366219,\n",
              "        0.28366219])"
            ]
          },
          "metadata": {},
          "execution_count": 12
        }
      ]
    },
    {
      "cell_type": "code",
      "source": [
        "np.tan(arr_c)"
      ],
      "metadata": {
        "colab": {
          "base_uri": "https://localhost:8080/"
        },
        "id": "_cZaUK69Wcqm",
        "outputId": "04cd175a-dc08-4575-9981-2798f3f02bee"
      },
      "execution_count": null,
      "outputs": [
        {
          "output_type": "execute_result",
          "data": {
            "text/plain": [
              "array([ 1.55740772, -2.18503986, -0.14254654,  1.15782128, -3.38051501,\n",
              "       -3.38051501])"
            ]
          },
          "metadata": {},
          "execution_count": 13
        }
      ]
    },
    {
      "cell_type": "markdown",
      "source": [
        "# Latihan Fungsi Universal NumPy"
      ],
      "metadata": {
        "id": "BMJx98VyWtlG"
      }
    },
    {
      "cell_type": "code",
      "source": [
        "import numpy as np"
      ],
      "metadata": {
        "id": "y2n3DCBzWtSA"
      },
      "execution_count": null,
      "outputs": []
    },
    {
      "cell_type": "code",
      "source": [
        "# Perhatikan array berikut:\n",
        "arr_a = np.array([2,3,2,1,5])\n",
        "arr_b = np.array([2,5,5,7,9])"
      ],
      "metadata": {
        "id": "huiqZNoZW_iV"
      },
      "execution_count": null,
      "outputs": []
    },
    {
      "cell_type": "markdown",
      "source": [
        "1. Dengan menggunakan fungsi universal, tampilkan hasil perkalian antara arr_a dan arr_b?"
      ],
      "metadata": {
        "id": "aj5kv66FXTEw"
      }
    },
    {
      "cell_type": "code",
      "source": [
        "np.multiply(arr_a, arr_b)"
      ],
      "metadata": {
        "colab": {
          "base_uri": "https://localhost:8080/"
        },
        "id": "_ec0im6aXRXI",
        "outputId": "f3a3f406-c34e-4c3d-ff3e-d4eb2225a5fd"
      },
      "execution_count": null,
      "outputs": [
        {
          "output_type": "execute_result",
          "data": {
            "text/plain": [
              "array([ 4, 15, 10,  7, 45])"
            ]
          },
          "metadata": {},
          "execution_count": 17
        }
      ]
    },
    {
      "cell_type": "markdown",
      "source": [
        "2. Berapakan selisih rata-rata antara arr_a dan arr_b?"
      ],
      "metadata": {
        "id": "iZ2yFPXMXb0I"
      }
    },
    {
      "cell_type": "code",
      "source": [
        "np.subtract(np.mean(arr_a), np.mean(arr_b))"
      ],
      "metadata": {
        "colab": {
          "base_uri": "https://localhost:8080/"
        },
        "id": "_fWdxKl2XT5p",
        "outputId": "d69361c5-0d2b-449b-f333-94515cb8eea4"
      },
      "execution_count": null,
      "outputs": [
        {
          "output_type": "execute_result",
          "data": {
            "text/plain": [
              "np.float64(-2.9999999999999996)"
            ]
          },
          "metadata": {},
          "execution_count": 18
        }
      ]
    },
    {
      "cell_type": "markdown",
      "source": [
        "3. Berapakah selisih jumlah antara arr_a dan arr_b?"
      ],
      "metadata": {
        "id": "yTgCGV3cXiP7"
      }
    },
    {
      "cell_type": "code",
      "source": [
        "np.subtract(np.sum(arr_a), np.sum(arr_b))"
      ],
      "metadata": {
        "colab": {
          "base_uri": "https://localhost:8080/"
        },
        "id": "cFb7f5XJXi00",
        "outputId": "4c528542-c590-49f0-cb04-798ba982c049"
      },
      "execution_count": null,
      "outputs": [
        {
          "output_type": "execute_result",
          "data": {
            "text/plain": [
              "np.int64(-15)"
            ]
          },
          "metadata": {},
          "execution_count": 19
        }
      ]
    },
    {
      "cell_type": "code",
      "source": [
        "nilai = [[70,45,56,66],[86,50,60,90],[90,75,84,93],[30,55,89,65]]\n",
        "arr_nilai = np.array(nilai)\n",
        "arr_nilai"
      ],
      "metadata": {
        "colab": {
          "base_uri": "https://localhost:8080/"
        },
        "id": "91UgN1IrXme7",
        "outputId": "93e3fbbd-672f-4c36-8f80-2f748cf5872b"
      },
      "execution_count": null,
      "outputs": [
        {
          "output_type": "execute_result",
          "data": {
            "text/plain": [
              "array([[70, 45, 56, 66],\n",
              "       [86, 50, 60, 90],\n",
              "       [90, 75, 84, 93],\n",
              "       [30, 55, 89, 65]])"
            ]
          },
          "metadata": {},
          "execution_count": 20
        }
      ]
    },
    {
      "cell_type": "markdown",
      "source": [
        "4. Berapa nilai eksponential dari arr_nilai di baris ke 4 dan kolom ke 2?"
      ],
      "metadata": {
        "id": "aYMPSOGvXp1n"
      }
    },
    {
      "cell_type": "code",
      "source": [
        "np.exp(arr_nilai[3,1])"
      ],
      "metadata": {
        "colab": {
          "base_uri": "https://localhost:8080/"
        },
        "id": "I-3L0bd0Xr09",
        "outputId": "2ad50c9d-4499-412f-881e-75753a0fc7ae"
      },
      "execution_count": null,
      "outputs": [
        {
          "output_type": "execute_result",
          "data": {
            "text/plain": [
              "np.float64(7.694785265142018e+23)"
            ]
          },
          "metadata": {},
          "execution_count": 22
        }
      ]
    },
    {
      "cell_type": "markdown",
      "source": [
        "5. Berapa nilai selisih sinus dari total baris pertama dan cosinus dari total kolom pertama arr_nilai?"
      ],
      "metadata": {
        "id": "-wH67NceX0mf"
      }
    },
    {
      "cell_type": "code",
      "source": [
        "arr_nilai"
      ],
      "metadata": {
        "colab": {
          "base_uri": "https://localhost:8080/"
        },
        "id": "JXo_CA6JX2l9",
        "outputId": "2bbe4003-d74f-452c-8728-99ac03cf9cdd"
      },
      "execution_count": null,
      "outputs": [
        {
          "output_type": "execute_result",
          "data": {
            "text/plain": [
              "array([[70, 45, 56, 66],\n",
              "       [86, 50, 60, 90],\n",
              "       [90, 75, 84, 93],\n",
              "       [30, 55, 89, 65]])"
            ]
          },
          "metadata": {},
          "execution_count": 23
        }
      ]
    },
    {
      "cell_type": "code",
      "source": [
        "x = np.sum(arr_nilai[0])\n",
        "x"
      ],
      "metadata": {
        "colab": {
          "base_uri": "https://localhost:8080/"
        },
        "id": "cf7sc-ADX8OP",
        "outputId": "d58db6ab-efd1-4a1d-949f-5e85291fac07"
      },
      "execution_count": null,
      "outputs": [
        {
          "output_type": "execute_result",
          "data": {
            "text/plain": [
              "np.int64(237)"
            ]
          },
          "metadata": {},
          "execution_count": 24
        }
      ]
    },
    {
      "cell_type": "code",
      "source": [
        "y = np.sum(arr_nilai[:, 0])\n",
        "y"
      ],
      "metadata": {
        "colab": {
          "base_uri": "https://localhost:8080/"
        },
        "id": "-v2IKbmjX-ZT",
        "outputId": "b6aeca10-3d22-488a-c444-4d01c49e3693"
      },
      "execution_count": null,
      "outputs": [
        {
          "output_type": "execute_result",
          "data": {
            "text/plain": [
              "np.int64(276)"
            ]
          },
          "metadata": {},
          "execution_count": 25
        }
      ]
    },
    {
      "cell_type": "code",
      "source": [
        "np.subtract(np.sin(x), np.cos(y))"
      ],
      "metadata": {
        "colab": {
          "base_uri": "https://localhost:8080/"
        },
        "id": "6GazE9m_YBDn",
        "outputId": "bc958b70-ccae-41bb-d58b-c4487fdeb80f"
      },
      "execution_count": null,
      "outputs": [
        {
          "output_type": "execute_result",
          "data": {
            "text/plain": [
              "np.float64(-1.8779422036551292)"
            ]
          },
          "metadata": {},
          "execution_count": 26
        }
      ]
    },
    {
      "cell_type": "markdown",
      "source": [
        "# Module Random\n",
        "\n",
        "NumPy menyediaakan module numpy random untuk menghasilkan angka acak. Sangat berguna seperti simulasi, statistik, machine learning dan lainnya"
      ],
      "metadata": {
        "id": "reGafBpEd0GL"
      }
    },
    {
      "cell_type": "code",
      "source": [
        "import numpy as np"
      ],
      "metadata": {
        "id": "XI5yCQP_eH5d"
      },
      "execution_count": null,
      "outputs": []
    },
    {
      "cell_type": "markdown",
      "source": [
        "Membuat angka random"
      ],
      "metadata": {
        "id": "0MPxsmjCeQnr"
      }
    },
    {
      "cell_type": "code",
      "source": [
        "np.random.rand(3) #membuat 1 dimensi yang berisi 3 elemen"
      ],
      "metadata": {
        "colab": {
          "base_uri": "https://localhost:8080/"
        },
        "id": "zJul5eNyd2KV",
        "outputId": "37f3c344-b220-40ec-b788-9d96028a6f95"
      },
      "execution_count": null,
      "outputs": [
        {
          "output_type": "execute_result",
          "data": {
            "text/plain": [
              "array([0.56786108, 0.13119865, 0.30034506])"
            ]
          },
          "metadata": {},
          "execution_count": 29
        }
      ]
    },
    {
      "cell_type": "code",
      "source": [
        "np.random.rand(3, 2) #membuat 2 dimensi yang berisi 3 baris 2 kolom"
      ],
      "metadata": {
        "colab": {
          "base_uri": "https://localhost:8080/"
        },
        "id": "x8RJdM6reYDZ",
        "outputId": "ec7b4775-b761-49e0-ab61-8584755a0509"
      },
      "execution_count": null,
      "outputs": [
        {
          "output_type": "execute_result",
          "data": {
            "text/plain": [
              "array([[0.19806424, 0.6550249 ],\n",
              "       [0.32350281, 0.9416879 ],\n",
              "       [0.53537159, 0.27509275]])"
            ]
          },
          "metadata": {},
          "execution_count": 30
        }
      ]
    },
    {
      "cell_type": "code",
      "source": [
        "np.random.rand(3, 2, 4) #membuat 3 dimensi"
      ],
      "metadata": {
        "colab": {
          "base_uri": "https://localhost:8080/"
        },
        "id": "DjwkxhLSehcc",
        "outputId": "283e8617-8641-4939-9e86-3d96297be9b9"
      },
      "execution_count": null,
      "outputs": [
        {
          "output_type": "execute_result",
          "data": {
            "text/plain": [
              "array([[[0.20489196, 0.29265123, 0.84915623, 0.10150062],\n",
              "        [0.26549051, 0.19077859, 0.20313639, 0.41785087]],\n",
              "\n",
              "       [[0.56867642, 0.91482267, 0.50977039, 0.78072147],\n",
              "        [0.49991953, 0.37909065, 0.4047006 , 0.70268023]],\n",
              "\n",
              "       [[0.05262714, 0.62409168, 0.63133923, 0.68945165],\n",
              "        [0.20500658, 0.14305009, 0.67015912, 0.40415523]]])"
            ]
          },
          "metadata": {},
          "execution_count": 31
        }
      ]
    },
    {
      "cell_type": "markdown",
      "source": [
        "Random terdistribusi normal"
      ],
      "metadata": {
        "id": "bM8AtnPjfEsr"
      }
    },
    {
      "cell_type": "code",
      "source": [
        "np.random.randn() #membuat angka randome yang terdistribusi normal"
      ],
      "metadata": {
        "colab": {
          "base_uri": "https://localhost:8080/"
        },
        "id": "Zh-FjLAPeqMS",
        "outputId": "ee314f68-e3ec-4cbd-8ac0-c13a92939ab9"
      },
      "execution_count": null,
      "outputs": [
        {
          "output_type": "execute_result",
          "data": {
            "text/plain": [
              "0.44066977942748764"
            ]
          },
          "metadata": {},
          "execution_count": 33
        }
      ]
    },
    {
      "cell_type": "code",
      "source": [
        "np.random.randn(3) #array 1 dimensi normal"
      ],
      "metadata": {
        "colab": {
          "base_uri": "https://localhost:8080/"
        },
        "id": "CAjB9Lhfe3HO",
        "outputId": "a057b5a3-e240-430e-fbf1-44e155d50534"
      },
      "execution_count": null,
      "outputs": [
        {
          "output_type": "execute_result",
          "data": {
            "text/plain": [
              "array([ 2.0624249 , -0.35070356,  0.20157744])"
            ]
          },
          "metadata": {},
          "execution_count": 34
        }
      ]
    },
    {
      "cell_type": "markdown",
      "source": [
        "Random integer yang berisi rentangnya"
      ],
      "metadata": {
        "id": "XML81DGpfIjd"
      }
    },
    {
      "cell_type": "code",
      "source": [
        "np.random.randint(1, 100, 20)\n",
        "# 1 : Angka awal, 100 : angka akhir, 20 : rentang"
      ],
      "metadata": {
        "colab": {
          "base_uri": "https://localhost:8080/"
        },
        "id": "qEK0wLGRfL1o",
        "outputId": "3fd8d7f7-f75e-445a-fc78-72fa4361992a"
      },
      "execution_count": null,
      "outputs": [
        {
          "output_type": "execute_result",
          "data": {
            "text/plain": [
              "array([30, 41, 59, 61, 31, 21, 49, 80, 27, 43, 48, 92, 73, 51, 55, 52, 98,\n",
              "       89, 48,  6])"
            ]
          },
          "metadata": {},
          "execution_count": 36
        }
      ]
    },
    {
      "cell_type": "markdown",
      "source": [
        "Tatangan : membuat fungsi random int membuat angka 1 - 100 dengan ukuran array 3x3"
      ],
      "metadata": {
        "id": "FQySLMKcfgV6"
      }
    },
    {
      "cell_type": "code",
      "source": [
        "np.random.randint(1, 101, size = (3, 3))"
      ],
      "metadata": {
        "colab": {
          "base_uri": "https://localhost:8080/"
        },
        "id": "-FkbwkuifqaY",
        "outputId": "6dcf011c-b654-465a-ca5f-bda28ac96d74"
      },
      "execution_count": null,
      "outputs": [
        {
          "output_type": "execute_result",
          "data": {
            "text/plain": [
              "array([[ 22, 100,  99],\n",
              "       [ 99,  62,  83],\n",
              "       [  3,  24,  92]])"
            ]
          },
          "metadata": {},
          "execution_count": 43
        }
      ]
    },
    {
      "cell_type": "markdown",
      "source": [
        "# Membuat Angka Random Sesuai Distribusi"
      ],
      "metadata": {
        "id": "6NHRvbTlgjGH"
      }
    },
    {
      "cell_type": "code",
      "source": [
        "import numpy as np"
      ],
      "metadata": {
        "id": "ALRAvTvugnxy"
      },
      "execution_count": null,
      "outputs": []
    },
    {
      "cell_type": "markdown",
      "source": [
        "Distribusi Uniform"
      ],
      "metadata": {
        "id": "T7llB_1Gg7iL"
      }
    },
    {
      "cell_type": "code",
      "source": [
        "np.random.uniform?\n"
      ],
      "metadata": {
        "id": "bryajRhjgsgT"
      },
      "execution_count": null,
      "outputs": []
    },
    {
      "cell_type": "code",
      "source": [
        "np.random.uniform(0, 10, 10)"
      ],
      "metadata": {
        "colab": {
          "base_uri": "https://localhost:8080/"
        },
        "id": "WcDYZV5cgw8O",
        "outputId": "ad192761-78d0-41ed-f86d-519fbbc8a300"
      },
      "execution_count": null,
      "outputs": [
        {
          "output_type": "execute_result",
          "data": {
            "text/plain": [
              "array([5.75166431, 9.85456859, 0.30983875, 4.08965704, 8.4744862 ,\n",
              "       1.30826386, 1.61276641, 0.46904435, 9.89849058, 6.50021699])"
            ]
          },
          "metadata": {},
          "execution_count": 46
        }
      ]
    },
    {
      "cell_type": "code",
      "source": [
        "# menggunakan ukuran array 2x2\n",
        "np.random.uniform(0, 10, (2, 2))"
      ],
      "metadata": {
        "colab": {
          "base_uri": "https://localhost:8080/"
        },
        "id": "pY8RLUbQg-r3",
        "outputId": "4afd78b3-c6a8-474c-9648-ae1c4b92421d"
      },
      "execution_count": null,
      "outputs": [
        {
          "output_type": "execute_result",
          "data": {
            "text/plain": [
              "array([[4.51858786, 9.25655287],\n",
              "       [9.70765774, 2.38457122]])"
            ]
          },
          "metadata": {},
          "execution_count": 47
        }
      ]
    },
    {
      "cell_type": "markdown",
      "source": [
        "Distribusi normal"
      ],
      "metadata": {
        "id": "vILA4FN3hPjF"
      }
    },
    {
      "cell_type": "code",
      "source": [
        "np.random.normal?"
      ],
      "metadata": {
        "id": "N5VH-7vfhRxK"
      },
      "execution_count": null,
      "outputs": []
    },
    {
      "cell_type": "code",
      "source": [
        "np.random.rand(10) # hnya dng rentang 0 - 1"
      ],
      "metadata": {
        "colab": {
          "base_uri": "https://localhost:8080/"
        },
        "id": "eiBpHaEfhURU",
        "outputId": "45dbc890-2d92-45eb-8967-953e7671f2fd"
      },
      "execution_count": null,
      "outputs": [
        {
          "output_type": "execute_result",
          "data": {
            "text/plain": [
              "array([0.30774906, 0.11211621, 0.94548616, 0.80178875, 0.43789651,\n",
              "       0.8328558 , 0.1791473 , 0.0088339 , 0.96684378, 0.41884769])"
            ]
          },
          "metadata": {},
          "execution_count": 51
        }
      ]
    },
    {
      "cell_type": "code",
      "source": [
        "np.random.normal(loc=10, scale=10, size=(4,4))#modifikasi sesuai yg diinginkan\n",
        "# loc = rata rata, scale = variasi"
      ],
      "metadata": {
        "colab": {
          "base_uri": "https://localhost:8080/"
        },
        "id": "i0jzb65Khhxg",
        "outputId": "6ed58b06-dee4-4f10-ef30-f1d78fc99cfe"
      },
      "execution_count": null,
      "outputs": [
        {
          "output_type": "execute_result",
          "data": {
            "text/plain": [
              "array([[26.08378845,  2.84945764,  0.51389158, 13.83833905],\n",
              "       [23.59306309, -5.66324508, -4.8358318 ,  8.75288436],\n",
              "       [-4.92619419,  6.12987626,  8.49357054,  7.00258446],\n",
              "       [13.07975973, 18.04771372, 23.19709185,  3.35088555]])"
            ]
          },
          "metadata": {},
          "execution_count": 52
        }
      ]
    },
    {
      "cell_type": "markdown",
      "source": [
        "Distribusi Binomial"
      ],
      "metadata": {
        "id": "IC-zypzlh3Mr"
      }
    },
    {
      "cell_type": "code",
      "source": [
        "np.random.binomial?"
      ],
      "metadata": {
        "id": "6Qdoi-3Xh1_l"
      },
      "execution_count": null,
      "outputs": []
    },
    {
      "cell_type": "code",
      "source": [
        "np.random.binomial(100, 0.5, 5)\n",
        "# 100 rentang, 0.5 probabilitas, 5 elemen"
      ],
      "metadata": {
        "colab": {
          "base_uri": "https://localhost:8080/"
        },
        "id": "3bOglRm4h9Lx",
        "outputId": "3fe42304-8998-403b-8ec2-1ad67144488c"
      },
      "execution_count": null,
      "outputs": [
        {
          "output_type": "execute_result",
          "data": {
            "text/plain": [
              "array([53, 52, 44, 48, 49])"
            ]
          },
          "metadata": {},
          "execution_count": 54
        }
      ]
    },
    {
      "cell_type": "markdown",
      "source": [
        "Distribusi Poissont"
      ],
      "metadata": {
        "id": "3_RD6Vq5iZ42"
      }
    },
    {
      "cell_type": "code",
      "source": [
        "np.random.poisson?"
      ],
      "metadata": {
        "id": "1t977hFuiS0W"
      },
      "execution_count": null,
      "outputs": []
    },
    {
      "cell_type": "code",
      "source": [
        "np.random.poisson(4, 10)\n",
        "# 4 rentang, 10 jmlh elemen"
      ],
      "metadata": {
        "colab": {
          "base_uri": "https://localhost:8080/"
        },
        "id": "E1L2IbYyijHM",
        "outputId": "b41ec43d-18f1-41e0-e7fb-055ae4625a97"
      },
      "execution_count": null,
      "outputs": [
        {
          "output_type": "execute_result",
          "data": {
            "text/plain": [
              "array([ 9,  5,  5,  4, 11,  3,  2,  4,  4,  5])"
            ]
          },
          "metadata": {},
          "execution_count": 56
        }
      ]
    },
    {
      "cell_type": "markdown",
      "source": [
        "# Random Seed"
      ],
      "metadata": {
        "id": "PCIGh4VWjIFB"
      }
    },
    {
      "cell_type": "code",
      "source": [
        "import numpy as np"
      ],
      "metadata": {
        "id": "4SWw6V4W1Tcx"
      },
      "execution_count": 58,
      "outputs": []
    },
    {
      "cell_type": "code",
      "source": [
        "np.random.randint(1,10, (3,3))"
      ],
      "metadata": {
        "id": "XBFGF5XkjJ7t",
        "colab": {
          "base_uri": "https://localhost:8080/"
        },
        "outputId": "ca347cff-cd97-4a9a-8ba8-1bbdbf574f92"
      },
      "execution_count": 65,
      "outputs": [
        {
          "output_type": "execute_result",
          "data": {
            "text/plain": [
              "array([[9, 4, 9],\n",
              "       [8, 4, 7],\n",
              "       [6, 2, 4]])"
            ]
          },
          "metadata": {},
          "execution_count": 65
        }
      ]
    },
    {
      "cell_type": "code",
      "source": [
        "#menggunakan random seed\n",
        "np.random.seed(1) #untuk mengunci seed\n",
        "np.random.randint(1,10, (3,3))"
      ],
      "metadata": {
        "colab": {
          "base_uri": "https://localhost:8080/"
        },
        "id": "fpc_RGud1eEf",
        "outputId": "705c2b2a-9d6e-48f0-a73b-9aa96d2e22a3"
      },
      "execution_count": 79,
      "outputs": [
        {
          "output_type": "execute_result",
          "data": {
            "text/plain": [
              "array([[6, 9, 6],\n",
              "       [1, 1, 2],\n",
              "       [8, 7, 3]])"
            ]
          },
          "metadata": {},
          "execution_count": 79
        }
      ]
    },
    {
      "cell_type": "code",
      "source": [
        "#menggunakan random seed\n",
        "np.random.seed(2)\n",
        "np.random.randint(1,10, (3,3))"
      ],
      "metadata": {
        "colab": {
          "base_uri": "https://localhost:8080/"
        },
        "id": "4nCqNZpu1wuc",
        "outputId": "c0c9b16c-8ac7-49ef-ba9f-9d3f752a59c2"
      },
      "execution_count": 80,
      "outputs": [
        {
          "output_type": "execute_result",
          "data": {
            "text/plain": [
              "array([[9, 9, 7],\n",
              "       [3, 9, 8],\n",
              "       [3, 2, 6]])"
            ]
          },
          "metadata": {},
          "execution_count": 80
        }
      ]
    },
    {
      "cell_type": "markdown",
      "source": [
        "Tantangan :"
      ],
      "metadata": {
        "id": "4GMYUHbV2DE1"
      }
    },
    {
      "cell_type": "code",
      "source": [
        "np.random.seed(7)\n",
        "np.random.randint(1, 100, (4,4))"
      ],
      "metadata": {
        "colab": {
          "base_uri": "https://localhost:8080/"
        },
        "id": "M3nogHLH2M5x",
        "outputId": "94e95129-ef6e-4cd6-9daf-c7dbba337f6d"
      },
      "execution_count": 82,
      "outputs": [
        {
          "output_type": "execute_result",
          "data": {
            "text/plain": [
              "array([[48, 69, 26, 68],\n",
              "       [84, 24, 93, 58],\n",
              "       [15, 24, 73, 90],\n",
              "       [43, 91,  9, 40]])"
            ]
          },
          "metadata": {},
          "execution_count": 82
        }
      ]
    },
    {
      "cell_type": "markdown",
      "source": [
        "# Latihan Module Random NumPy"
      ],
      "metadata": {
        "id": "ksQDXnBV24o9"
      }
    },
    {
      "cell_type": "markdown",
      "source": [
        "1.Buatkan array dengan bilangan random integer ukuran 3x3 (nilai elemen tidak harus sesuai dengan solusi)"
      ],
      "metadata": {
        "id": "5xqq01WR3PDc"
      }
    },
    {
      "cell_type": "code",
      "source": [
        "np.random.randint(1,100, (3,3))"
      ],
      "metadata": {
        "colab": {
          "base_uri": "https://localhost:8080/"
        },
        "id": "VFYJGHpM3GrJ",
        "outputId": "d4576fbb-3b79-42d9-fdcc-aa0d218f54f9"
      },
      "execution_count": 83,
      "outputs": [
        {
          "output_type": "execute_result",
          "data": {
            "text/plain": [
              "array([[69, 49,  8],\n",
              "       [45,  1, 76],\n",
              "       [56,  7, 20]])"
            ]
          },
          "metadata": {},
          "execution_count": 83
        }
      ]
    },
    {
      "cell_type": "markdown",
      "source": [
        "2. Buatkan array dengan bilangan random terdistribusi normal, dengan mean=4 dan variance=10, dan ukuran 3x3 (nilai elemen tidak harus sesuai dengan solusi)"
      ],
      "metadata": {
        "id": "W24yDhZ33gfj"
      }
    },
    {
      "cell_type": "code",
      "source": [
        "np.random.normal(loc=4, scale=10, size=(3, 3))"
      ],
      "metadata": {
        "colab": {
          "base_uri": "https://localhost:8080/"
        },
        "id": "rkWBBr6S3nl5",
        "outputId": "b6814e6e-4f65-498b-d22c-2cf3ee077bd8"
      },
      "execution_count": 84,
      "outputs": [
        {
          "output_type": "execute_result",
          "data": {
            "text/plain": [
              "array([[ -6.42042225,  17.12685509,   2.67975661],\n",
              "       [  6.38855514,  -4.32720173,  12.5193849 ],\n",
              "       [  1.1971449 ,   7.02081967, -17.4511962 ]])"
            ]
          },
          "metadata": {},
          "execution_count": 84
        }
      ]
    },
    {
      "cell_type": "markdown",
      "source": [
        "3. Dengan seed = 101, buatkan angka random sesuai dengan solusi di soal no. 2"
      ],
      "metadata": {
        "id": "ud3_Saw332BW"
      }
    },
    {
      "cell_type": "code",
      "source": [
        "np.random.seed(101)\n",
        "np.random.normal(loc=4, scale=10, size=(3, 3))"
      ],
      "metadata": {
        "colab": {
          "base_uri": "https://localhost:8080/"
        },
        "id": "X7RdFtqS31VI",
        "outputId": "55c70e67-c46e-498a-99f2-d59c673b5561"
      },
      "execution_count": 88,
      "outputs": [
        {
          "output_type": "execute_result",
          "data": {
            "text/plain": [
              "array([[ 31.06849839,  10.28132709,  13.07969446],\n",
              "       [  9.03825754,  10.51117948,   0.80681955],\n",
              "       [ -4.48076983,  10.05965349, -16.18168244]])"
            ]
          },
          "metadata": {},
          "execution_count": 88
        }
      ]
    }
  ]
}