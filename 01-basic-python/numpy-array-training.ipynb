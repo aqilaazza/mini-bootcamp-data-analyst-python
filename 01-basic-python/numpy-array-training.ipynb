{
  "nbformat": 4,
  "nbformat_minor": 0,
  "metadata": {
    "colab": {
      "provenance": [],
      "authorship_tag": "ABX9TyMx07p2/JafuaUsCXgf4yjy",
      "include_colab_link": true
    },
    "kernelspec": {
      "name": "python3",
      "display_name": "Python 3"
    },
    "language_info": {
      "name": "python"
    }
  },
  "cells": [
    {
      "cell_type": "markdown",
      "metadata": {
        "id": "view-in-github",
        "colab_type": "text"
      },
      "source": [
        "<a href=\"https://colab.research.google.com/github/aqilaazza/mini-bootcamp-data-analyst-python/blob/main/01-basic-python/numpy-array-training.ipynb\" target=\"_parent\"><img src=\"https://colab.research.google.com/assets/colab-badge.svg\" alt=\"Open In Colab\"/></a>"
      ]
    },
    {
      "cell_type": "markdown",
      "source": [
        "# Latihan NumPy Array"
      ],
      "metadata": {
        "id": "is_VSzIr818t"
      }
    },
    {
      "cell_type": "markdown",
      "source": [
        "### 1. import numpy"
      ],
      "metadata": {
        "id": "jr54s_S_83OM"
      }
    },
    {
      "cell_type": "code",
      "execution_count": 1,
      "metadata": {
        "id": "9DKeUBnP8rjm"
      },
      "outputs": [],
      "source": [
        "# ketik kode kalian di dalam cel ini\n",
        "import numpy as np"
      ]
    },
    {
      "cell_type": "markdown",
      "source": [
        "### 2. Buatkan array dari 1 sampai 4"
      ],
      "metadata": {
        "id": "Lr64RpXj87Cz"
      }
    },
    {
      "cell_type": "code",
      "source": [
        "# ketik kode kalian di dalam cel ini\n",
        "np.array([1,2,3,4])"
      ],
      "metadata": {
        "colab": {
          "base_uri": "https://localhost:8080/"
        },
        "id": "kFyV9KDO88ag",
        "outputId": "4d6073ca-c40d-4939-efe7-035adab9af33"
      },
      "execution_count": 2,
      "outputs": [
        {
          "output_type": "execute_result",
          "data": {
            "text/plain": [
              "array([1, 2, 3, 4])"
            ]
          },
          "metadata": {},
          "execution_count": 2
        }
      ]
    },
    {
      "cell_type": "markdown",
      "source": [
        "### 3. Buatkan array dengan 10 elemen bernilai 0"
      ],
      "metadata": {
        "id": "gXP0Up6d8_EY"
      }
    },
    {
      "cell_type": "code",
      "source": [
        "# ketik kode kalian di dalam cel ini\n",
        "np.zeros(10)"
      ],
      "metadata": {
        "colab": {
          "base_uri": "https://localhost:8080/"
        },
        "id": "MBCabOiH9Bzg",
        "outputId": "4a8ed09d-a211-4819-ac6c-9cea0f5000b5"
      },
      "execution_count": 3,
      "outputs": [
        {
          "output_type": "execute_result",
          "data": {
            "text/plain": [
              "array([0., 0., 0., 0., 0., 0., 0., 0., 0., 0.])"
            ]
          },
          "metadata": {},
          "execution_count": 3
        }
      ]
    },
    {
      "cell_type": "markdown",
      "source": [
        "### 4. Buatkan array dengan ukuran 5x5 bernilai 1 semua"
      ],
      "metadata": {
        "id": "1idbRybG9GIc"
      }
    },
    {
      "cell_type": "code",
      "source": [
        "# ketik kode kalian di dalam cel ini\n",
        "np.ones((5,5))"
      ],
      "metadata": {
        "colab": {
          "base_uri": "https://localhost:8080/"
        },
        "id": "_l5sCtzD9I2H",
        "outputId": "a5f5a12d-4716-4172-9bae-0f8142d9b584"
      },
      "execution_count": 4,
      "outputs": [
        {
          "output_type": "execute_result",
          "data": {
            "text/plain": [
              "array([[1., 1., 1., 1., 1.],\n",
              "       [1., 1., 1., 1., 1.],\n",
              "       [1., 1., 1., 1., 1.],\n",
              "       [1., 1., 1., 1., 1.],\n",
              "       [1., 1., 1., 1., 1.]])"
            ]
          },
          "metadata": {},
          "execution_count": 4
        }
      ]
    },
    {
      "cell_type": "markdown",
      "source": [
        "### 4. Buatkan array dengan ukuran 5x5 bernilai 1 semua"
      ],
      "metadata": {
        "id": "tjRvWzeu9NSI"
      }
    },
    {
      "cell_type": "code",
      "source": [
        "# ketik kode kalian di dalam cel ini\n",
        "np.ones((5,5))"
      ],
      "metadata": {
        "colab": {
          "base_uri": "https://localhost:8080/"
        },
        "id": "Bm98vlSd9LAc",
        "outputId": "0de076f5-4302-4c40-8aae-3090bb5b98e0"
      },
      "execution_count": 5,
      "outputs": [
        {
          "output_type": "execute_result",
          "data": {
            "text/plain": [
              "array([[1., 1., 1., 1., 1.],\n",
              "       [1., 1., 1., 1., 1.],\n",
              "       [1., 1., 1., 1., 1.],\n",
              "       [1., 1., 1., 1., 1.],\n",
              "       [1., 1., 1., 1., 1.]])"
            ]
          },
          "metadata": {},
          "execution_count": 5
        }
      ]
    },
    {
      "cell_type": "markdown",
      "source": [
        "### 5. Buatkan array dengan ukuran 10x20 bernilai 20"
      ],
      "metadata": {
        "id": "597dGDPI9Toy"
      }
    },
    {
      "cell_type": "code",
      "source": [
        "# ketik kode kalian di dalam cel ini\n",
        "np.ones((10,20))*20"
      ],
      "metadata": {
        "colab": {
          "base_uri": "https://localhost:8080/"
        },
        "id": "d2LdK1Q89Q3S",
        "outputId": "15d6209b-c25a-4f28-ad14-758a8a15ab3c"
      },
      "execution_count": 6,
      "outputs": [
        {
          "output_type": "execute_result",
          "data": {
            "text/plain": [
              "array([[20., 20., 20., 20., 20., 20., 20., 20., 20., 20., 20., 20., 20.,\n",
              "        20., 20., 20., 20., 20., 20., 20.],\n",
              "       [20., 20., 20., 20., 20., 20., 20., 20., 20., 20., 20., 20., 20.,\n",
              "        20., 20., 20., 20., 20., 20., 20.],\n",
              "       [20., 20., 20., 20., 20., 20., 20., 20., 20., 20., 20., 20., 20.,\n",
              "        20., 20., 20., 20., 20., 20., 20.],\n",
              "       [20., 20., 20., 20., 20., 20., 20., 20., 20., 20., 20., 20., 20.,\n",
              "        20., 20., 20., 20., 20., 20., 20.],\n",
              "       [20., 20., 20., 20., 20., 20., 20., 20., 20., 20., 20., 20., 20.,\n",
              "        20., 20., 20., 20., 20., 20., 20.],\n",
              "       [20., 20., 20., 20., 20., 20., 20., 20., 20., 20., 20., 20., 20.,\n",
              "        20., 20., 20., 20., 20., 20., 20.],\n",
              "       [20., 20., 20., 20., 20., 20., 20., 20., 20., 20., 20., 20., 20.,\n",
              "        20., 20., 20., 20., 20., 20., 20.],\n",
              "       [20., 20., 20., 20., 20., 20., 20., 20., 20., 20., 20., 20., 20.,\n",
              "        20., 20., 20., 20., 20., 20., 20.],\n",
              "       [20., 20., 20., 20., 20., 20., 20., 20., 20., 20., 20., 20., 20.,\n",
              "        20., 20., 20., 20., 20., 20., 20.],\n",
              "       [20., 20., 20., 20., 20., 20., 20., 20., 20., 20., 20., 20., 20.,\n",
              "        20., 20., 20., 20., 20., 20., 20.]])"
            ]
          },
          "metadata": {},
          "execution_count": 6
        }
      ]
    },
    {
      "cell_type": "markdown",
      "source": [
        "### 6. Buatkan array dengan elemen bilangan genap dari 1 sampai 100 (100 tidak termasuk)"
      ],
      "metadata": {
        "id": "jAYWQBr_9V72"
      }
    },
    {
      "cell_type": "code",
      "source": [
        "# ketik kode kalian di dalam cel ini\n",
        "np.arange(2,100,2)"
      ],
      "metadata": {
        "id": "oRVWHWaT9YaL"
      },
      "execution_count": null,
      "outputs": []
    },
    {
      "cell_type": "code",
      "source": [
        "# Perhatikan array berikut ini\n",
        "arr_latihan = np.arange(1,37).reshape(6,6)\n",
        "arr_latihan"
      ],
      "metadata": {
        "colab": {
          "base_uri": "https://localhost:8080/"
        },
        "id": "C_Jcq_P-9eRY",
        "outputId": "bbe0dd3e-3aa0-4382-8ceb-aa3089336849"
      },
      "execution_count": 7,
      "outputs": [
        {
          "output_type": "execute_result",
          "data": {
            "text/plain": [
              "array([[ 1,  2,  3,  4,  5,  6],\n",
              "       [ 7,  8,  9, 10, 11, 12],\n",
              "       [13, 14, 15, 16, 17, 18],\n",
              "       [19, 20, 21, 22, 23, 24],\n",
              "       [25, 26, 27, 28, 29, 30],\n",
              "       [31, 32, 33, 34, 35, 36]])"
            ]
          },
          "metadata": {},
          "execution_count": 7
        }
      ]
    },
    {
      "cell_type": "markdown",
      "source": [
        "### 7. Berdasarkan arr_latihan, lakukan indexing sehingga mendapatkan hasil berikut ini:"
      ],
      "metadata": {
        "id": "zQINQCKH9dxl"
      }
    },
    {
      "cell_type": "code",
      "source": [
        "# ketik kode kalian di dalam cel ini\n",
        "arr_latihan[3,5]"
      ],
      "metadata": {
        "colab": {
          "base_uri": "https://localhost:8080/"
        },
        "id": "Rq9yvz9I9i8T",
        "outputId": "1fb72ae0-d97f-4aa2-e6b2-c47e5ab0e0d7"
      },
      "execution_count": 8,
      "outputs": [
        {
          "output_type": "execute_result",
          "data": {
            "text/plain": [
              "np.int64(24)"
            ]
          },
          "metadata": {},
          "execution_count": 8
        }
      ]
    },
    {
      "cell_type": "code",
      "source": [
        "# ketik kode kalian di dalam cel ini\n",
        "arr_latihan[2,5]"
      ],
      "metadata": {
        "colab": {
          "base_uri": "https://localhost:8080/"
        },
        "id": "QLYrtrVb9lLy",
        "outputId": "7a57c725-d9d3-45dd-e2da-ef291fdc9f81"
      },
      "execution_count": 9,
      "outputs": [
        {
          "output_type": "execute_result",
          "data": {
            "text/plain": [
              "np.int64(18)"
            ]
          },
          "metadata": {},
          "execution_count": 9
        }
      ]
    },
    {
      "cell_type": "markdown",
      "source": [
        "### 8. Berdasarkan arr_latihan, lakukan slicing sehingga mendapatkan hasil berikut ini:"
      ],
      "metadata": {
        "id": "id2ObfKw9bLK"
      }
    },
    {
      "cell_type": "code",
      "source": [
        "arr_latihan"
      ],
      "metadata": {
        "colab": {
          "base_uri": "https://localhost:8080/"
        },
        "id": "O4dh_J0W9oND",
        "outputId": "9ad63cca-06b9-43ea-b80f-3981176dd053"
      },
      "execution_count": 10,
      "outputs": [
        {
          "output_type": "execute_result",
          "data": {
            "text/plain": [
              "array([[ 1,  2,  3,  4,  5,  6],\n",
              "       [ 7,  8,  9, 10, 11, 12],\n",
              "       [13, 14, 15, 16, 17, 18],\n",
              "       [19, 20, 21, 22, 23, 24],\n",
              "       [25, 26, 27, 28, 29, 30],\n",
              "       [31, 32, 33, 34, 35, 36]])"
            ]
          },
          "metadata": {},
          "execution_count": 10
        }
      ]
    },
    {
      "cell_type": "code",
      "source": [
        "# ketik kode kalian di dalam cel ini\n",
        "arr_latihan[2]"
      ],
      "metadata": {
        "colab": {
          "base_uri": "https://localhost:8080/"
        },
        "id": "PzsiILj99rSc",
        "outputId": "448c8a07-cdff-4c08-b51f-ccf19f074e1f"
      },
      "execution_count": 11,
      "outputs": [
        {
          "output_type": "execute_result",
          "data": {
            "text/plain": [
              "array([13, 14, 15, 16, 17, 18])"
            ]
          },
          "metadata": {},
          "execution_count": 11
        }
      ]
    },
    {
      "cell_type": "code",
      "source": [
        "# ketik kode kalian di dalam cel ini\n",
        "arr_latihan[2:4]"
      ],
      "metadata": {
        "colab": {
          "base_uri": "https://localhost:8080/"
        },
        "id": "dhtvBTuu9u_o",
        "outputId": "540c50f5-3eea-4fbe-9ad3-fe7d22c96126"
      },
      "execution_count": 12,
      "outputs": [
        {
          "output_type": "execute_result",
          "data": {
            "text/plain": [
              "array([[13, 14, 15, 16, 17, 18],\n",
              "       [19, 20, 21, 22, 23, 24]])"
            ]
          },
          "metadata": {},
          "execution_count": 12
        }
      ]
    },
    {
      "cell_type": "code",
      "source": [
        "# ketik kode kalian di dalam cel ini\n",
        "arr_latihan[2:4]"
      ],
      "metadata": {
        "colab": {
          "base_uri": "https://localhost:8080/"
        },
        "id": "nVzpTReW9t31",
        "outputId": "56e3e7ec-aa1d-4e58-bfc7-60f6dff4cc08"
      },
      "execution_count": 13,
      "outputs": [
        {
          "output_type": "execute_result",
          "data": {
            "text/plain": [
              "array([[13, 14, 15, 16, 17, 18],\n",
              "       [19, 20, 21, 22, 23, 24]])"
            ]
          },
          "metadata": {},
          "execution_count": 13
        }
      ]
    },
    {
      "cell_type": "markdown",
      "source": [
        "### 9. Ubah ukuran arr_latihan menjadi 1x36 dan 36x1"
      ],
      "metadata": {
        "id": "BV2Gr-PB9ztS"
      }
    },
    {
      "cell_type": "code",
      "source": [
        "# ketik kode kalian di dalam cel ini\n",
        "arr_latihan.reshape(1,36)"
      ],
      "metadata": {
        "colab": {
          "base_uri": "https://localhost:8080/"
        },
        "id": "Z6YSjdzP91GX",
        "outputId": "3ad7e02c-e083-4d2f-a495-89fdd6bb1386"
      },
      "execution_count": 14,
      "outputs": [
        {
          "output_type": "execute_result",
          "data": {
            "text/plain": [
              "array([[ 1,  2,  3,  4,  5,  6,  7,  8,  9, 10, 11, 12, 13, 14, 15, 16,\n",
              "        17, 18, 19, 20, 21, 22, 23, 24, 25, 26, 27, 28, 29, 30, 31, 32,\n",
              "        33, 34, 35, 36]])"
            ]
          },
          "metadata": {},
          "execution_count": 14
        }
      ]
    },
    {
      "cell_type": "code",
      "source": [
        "# ketik kode kalian di dalam cel ini\n",
        "arr_latihan.reshape(36,1)"
      ],
      "metadata": {
        "colab": {
          "base_uri": "https://localhost:8080/"
        },
        "id": "FlaZXZbr94Fr",
        "outputId": "aa608ef3-5dd9-4d8d-b385-960d22b93ea8"
      },
      "execution_count": 15,
      "outputs": [
        {
          "output_type": "execute_result",
          "data": {
            "text/plain": [
              "array([[ 1],\n",
              "       [ 2],\n",
              "       [ 3],\n",
              "       [ 4],\n",
              "       [ 5],\n",
              "       [ 6],\n",
              "       [ 7],\n",
              "       [ 8],\n",
              "       [ 9],\n",
              "       [10],\n",
              "       [11],\n",
              "       [12],\n",
              "       [13],\n",
              "       [14],\n",
              "       [15],\n",
              "       [16],\n",
              "       [17],\n",
              "       [18],\n",
              "       [19],\n",
              "       [20],\n",
              "       [21],\n",
              "       [22],\n",
              "       [23],\n",
              "       [24],\n",
              "       [25],\n",
              "       [26],\n",
              "       [27],\n",
              "       [28],\n",
              "       [29],\n",
              "       [30],\n",
              "       [31],\n",
              "       [32],\n",
              "       [33],\n",
              "       [34],\n",
              "       [35],\n",
              "       [36]])"
            ]
          },
          "metadata": {},
          "execution_count": 15
        }
      ]
    },
    {
      "cell_type": "markdown",
      "source": [
        "### 10. Berdasarkan array dibawah ini tentukan:"
      ],
      "metadata": {
        "id": "BQA-yH6g98z7"
      }
    },
    {
      "cell_type": "code",
      "source": [
        "np.random.seed(24)\n",
        "arr_random = np.random.randint(100, size=(10,10))\n",
        "arr_random"
      ],
      "metadata": {
        "colab": {
          "base_uri": "https://localhost:8080/"
        },
        "id": "wPuKfOGS99iv",
        "outputId": "e1d38e92-c756-4204-c4b3-340ba02480d1"
      },
      "execution_count": 16,
      "outputs": [
        {
          "output_type": "execute_result",
          "data": {
            "text/plain": [
              "array([[34,  3, 64, 87, 17, 17,  1, 79,  4, 99],\n",
              "       [82, 11, 99, 15, 73, 18,  7, 25, 35, 95],\n",
              "       [28,  0, 12, 95, 33,  1, 60, 55, 70, 97],\n",
              "       [81,  6, 46, 65, 47, 89, 74, 35, 64, 27],\n",
              "       [97, 33,  3,  4, 65, 10, 41, 56, 45,  7],\n",
              "       [ 5, 60, 83, 42,  0, 27, 21, 66, 36, 54],\n",
              "       [45, 96, 86, 34, 75, 94, 85, 39, 68, 63],\n",
              "       [67, 71,  8, 67, 70, 23, 42, 74, 75, 80],\n",
              "       [27, 65,  6, 32, 90, 98, 96, 24, 86, 44],\n",
              "       [75, 62, 95, 12, 21, 42, 76, 35, 36, 38]])"
            ]
          },
          "metadata": {},
          "execution_count": 16
        }
      ]
    },
    {
      "cell_type": "code",
      "source": [
        "arr_random.max()"
      ],
      "metadata": {
        "colab": {
          "base_uri": "https://localhost:8080/"
        },
        "id": "vcLFzyOS-AnB",
        "outputId": "5263c5a6-ff9b-441d-e321-2363b46f6b46"
      },
      "execution_count": 17,
      "outputs": [
        {
          "output_type": "execute_result",
          "data": {
            "text/plain": [
              "np.int64(99)"
            ]
          },
          "metadata": {},
          "execution_count": 17
        }
      ]
    },
    {
      "cell_type": "code",
      "source": [
        "arr_random.min()"
      ],
      "metadata": {
        "colab": {
          "base_uri": "https://localhost:8080/"
        },
        "id": "UvWArXQR-Cuj",
        "outputId": "5ecaef5f-3ecf-4f2a-8d66-5e265bda97b5"
      },
      "execution_count": 18,
      "outputs": [
        {
          "output_type": "execute_result",
          "data": {
            "text/plain": [
              "np.int64(0)"
            ]
          },
          "metadata": {},
          "execution_count": 18
        }
      ]
    },
    {
      "cell_type": "code",
      "source": [
        "arr_random.mean()"
      ],
      "metadata": {
        "colab": {
          "base_uri": "https://localhost:8080/"
        },
        "id": "HxHA4gO_-FOs",
        "outputId": "c4a62f9b-4599-44d9-d71c-cb681cfcad0c"
      },
      "execution_count": 19,
      "outputs": [
        {
          "output_type": "execute_result",
          "data": {
            "text/plain": [
              "np.float64(49.27)"
            ]
          },
          "metadata": {},
          "execution_count": 19
        }
      ]
    },
    {
      "cell_type": "code",
      "source": [
        "arr_random.sum()"
      ],
      "metadata": {
        "colab": {
          "base_uri": "https://localhost:8080/"
        },
        "id": "YuRHO_Lo-Gye",
        "outputId": "92c6b5ff-40c4-4aea-fc0b-0376442074e2"
      },
      "execution_count": 20,
      "outputs": [
        {
          "output_type": "execute_result",
          "data": {
            "text/plain": [
              "np.int64(4927)"
            ]
          },
          "metadata": {},
          "execution_count": 20
        }
      ]
    }
  ]
}